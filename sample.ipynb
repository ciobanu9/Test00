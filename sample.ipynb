{
 "cells": [
  {
   "cell_type": "markdown",
   "id": "533dc3e1-1e88-4ead-b835-408837aec2dd",
   "metadata": {
    "tags": []
   },
   "source": [
    "## Walkthru sample notebook"
   ]
  },
  {
   "cell_type": "markdown",
   "id": "cf4a883a-3866-4e3d-8fbd-29193d088491",
   "metadata": {},
   "source": [
    "Here is how i calculate `1`+`1` here "
   ]
  },
  {
   "cell_type": "code",
   "execution_count": 1,
   "id": "f0fe6dee-d2b4-4a65-82b0-d977156efa93",
   "metadata": {},
   "outputs": [
    {
     "data": {
      "text/plain": [
       "2"
      ]
     },
     "execution_count": 1,
     "metadata": {},
     "output_type": "execute_result"
    }
   ],
   "source": [
    "1+1\n"
   ]
  },
  {
   "cell_type": "code",
   "execution_count": 2,
   "id": "64e8f657-8aea-4dd4-8fed-dc5809a51667",
   "metadata": {},
   "outputs": [],
   "source": [
    "from numpy import *"
   ]
  },
  {
   "cell_type": "markdown",
   "id": "87092aa8-7575-41a7-9c50-6ca902b22f98",
   "metadata": {},
   "source": [
    "Here is how i calculate `sin`:"
   ]
  },
  {
   "cell_type": "code",
   "execution_count": 3,
   "id": "627fcc4d-ee62-490d-9209-ecd3de189946",
   "metadata": {},
   "outputs": [
    {
     "data": {
      "text/plain": [
       "array([0.84147098, 1.        ])"
      ]
     },
     "execution_count": 3,
     "metadata": {},
     "output_type": "execute_result"
    }
   ],
   "source": [
    "a = array([1.0, pi/2])\n",
    "sin(a)"
   ]
  },
  {
   "cell_type": "code",
   "execution_count": null,
   "id": "ce519aa6-c0d3-4d5a-b2b3-56b81bd190dc",
   "metadata": {},
   "outputs": [],
   "source": []
  }
 ],
 "metadata": {
  "kernelspec": {
   "display_name": "Python 3 (ipykernel)",
   "language": "python",
   "name": "python3"
  },
  "language_info": {
   "codemirror_mode": {
    "name": "ipython",
    "version": 3
   },
   "file_extension": ".py",
   "mimetype": "text/x-python",
   "name": "python",
   "nbconvert_exporter": "python",
   "pygments_lexer": "ipython3",
   "version": "3.10.6"
  }
 },
 "nbformat": 4,
 "nbformat_minor": 5
}
